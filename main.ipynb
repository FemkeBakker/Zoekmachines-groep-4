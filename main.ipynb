{
 "cells": [
  {
   "cell_type": "markdown",
   "source": [
    "# Zoekmachines Project 2022\n",
    "\n",
    "This notebook contains a pipeline which you can use and extend to return relevant passages given users' queries. The pipeline contains following parts:\n",
    "* Dataloader\n",
    "* Preprocessing\n",
    "* Full-ranking + Feature construction\n",
    "* Re-ranking\n",
    "* Evaluation\n",
    "* Submission to CodaLab leaderboard  \n",
    "  \n",
    "Amongst them, dataloader, preprocessing, full-ranking + feature construction, re-ranking and evaluaton are modules of an information retrieval system.\n",
    "The implementation for them are very basic, and so there is large room for you to improve them.\n",
    "\n",
    "At the end of the pipeline you are asked to submit your top 100 ranked list of passages on the test set to the CodaLab leaderboard. This way you can keep track of other teams performance and measure yourself with your peers."
   ],
   "metadata": {}
  },
  {
   "cell_type": "markdown",
   "source": [
    "First, you need to check whether you have the right Python version and the necessary packages installed. \n",
    "Please run the cell below to ensure this."
   ],
   "metadata": {}
  },
  {
   "cell_type": "code",
   "execution_count": 6,
   "source": [
    "!python3 -V # please make sure this is python 3\r\n",
    "# !pip3 install torch\r\n",
    "# !pip3 install numpy\r\n",
    "# !pip3 install nltk\r\n",
    "# !pip3 install wheel\r\n",
    "# !pip3 install memory_profiler\r\n",
    "%load_ext memory_profiler"
   ],
   "outputs": [
    {
     "output_type": "stream",
     "name": "stdout",
     "text": [
      "The memory_profiler extension is already loaded. To reload it, use:\n",
      "  %reload_ext memory_profiler\n"
     ]
    },
    {
     "output_type": "stream",
     "name": "stderr",
     "text": [
      "Python is niet gevonden. Voer zonder argumenten uit om te installeren vanuit de Microsoft Store of schakel deze snelkoppeling uit via Instellingen > Aliassen voor app-uitvoering beheren.\n"
     ]
    }
   ],
   "metadata": {}
  },
  {
   "cell_type": "markdown",
   "source": [
    "The imports below are all you need for this project. "
   ],
   "metadata": {}
  },
  {
   "cell_type": "code",
   "execution_count": 7,
   "source": [
    "import os\r\n",
    "import codecs\r\n",
    "import json\r\n",
    "import argparse\r\n",
    "from collections import defaultdict, Counter\r\n",
    "from zipfile import ZipFile\r\n",
    "\r\n",
    "import numpy as np\r\n",
    "\r\n",
    "import torch.utils.data as data\r\n",
    "import torch\r\n",
    "import torch.nn as nn\r\n",
    "import torch.optim as optim\r\n",
    "\r\n",
    "import nltk"
   ],
   "outputs": [],
   "metadata": {}
  },
  {
   "cell_type": "markdown",
   "source": [
    "## Dataset and Dataloader\n",
    "\n",
    "Here are information for the datasets we provided.\n",
    "* Regrading passges, we have a large passge collection `passages_large.json` and a small passage collection `passages_small.json`. Note that `passages_large.json` are more larger and so contains more labelled passges. Therefore, the retrieval on `passages_large.json` can potentially lead better performance than on `passages_small.json`. We encourage you to use the larger one.\n",
    "* Regrading queries, we have a training set `training_queries.json` with 8000 queries, a validation set `validation_queries.json` with 200 queries, and a test set `test_queries.json` with 200 queries.\n",
    "* Regarding labels, we have corresponding label sets `training_labels.json`, `validation_labels.json` and `test_labels.json` for queries on training, validation and test sets, respectively, where each query id has one or multiple corresponding labelled passage id(s) as well as the relevance score(s) of labelled passage(s) to the query. \n",
    "** The relevance scores on the training set are not graded (i.e., the scores are always 1), while the scores on the validation and test sets are graded (i.e., the scores can be 1, 2, 3, etc.). The larger the score, the more relevant the passge is. \n",
    "** The label set on the test set `Test_labels.json` is unseen, and the evaluation on the CodaLab leaderboard is conducted on this unseen test set.\n",
    "\n",
    "Here are more details.\n",
    "\n",
    "|Dataset Name |The number of records |Format|\n",
    "|:---|:---|:---|\n",
    "|passages_large.json  | 10,000,000  | {passge_id: passage_text, passge_id: …}|\n",
    "|passages_small.json  |1,000,000    |  {passge_id: passage_text, passge_id: …}|\n",
    "|training_queries.json | 8,000       |  {query_id: query_text, query_id: …}|\n",
    "|validation_queries.json | 200      |{query_id: query_text, query_id: …}\n",
    "|test_queries.json        | 200      |{query_id:, query_text, query_id: …}|\n",
    "|training_labels.json      | 8,000      |{query_id:  {passage_id: relevance_score, passage_id: …}, query_id: …}|\n",
    "|validation_labels.json    |200   |{query_id:  {passage_id: relevance_score, passage_id: …}, query_id: …}|\n",
    "|test_labels.json (unseen)          |200     | {query_id:  {passage_id: relevance_score, passage_id: …}, query_id: …}|\n",
    "\n",
    "\n",
    "To load the data, run the following cell."
   ],
   "metadata": {}
  },
  {
   "cell_type": "code",
   "execution_count": 8,
   "source": [
    "def passage_loader(path):\r\n",
    "    print(\"load passages from: {}\".format(path))   \r\n",
    "    passages = json.load(open(path, 'r', encoding=\"utf-8\", errors=\"ignore\"))    \r\n",
    "    return passages\r\n",
    "\r\n",
    "def query_loader(path):    \r\n",
    "    print(\"load queries from: {}\".format(path))\r\n",
    "    queries = json.load(open(path, 'r'))    \r\n",
    "    return queries\r\n",
    "\r\n",
    "\r\n",
    "def label_loader(path):\r\n",
    "    print(\"Load labels from: {}\".format(path))\r\n",
    "    labels = json.load(open(path, 'r'))    \r\n",
    "    return labels\r\n",
    "\r\n",
    "# you can choose passages_small.json or passages_large.json \r\n",
    "%memit passages = passage_loader(\"data/passages_small.json\")\r\n",
    "\r\n",
    "%memit queries_training = query_loader(\"data/training_queries.json\")\r\n",
    "%memit queries_validation = query_loader(\"data/validation_queries.json\")\r\n",
    "%memit queries_test = query_loader(\"data/test_queries.json\")\r\n",
    "\r\n",
    "%memit labels_training = label_loader(\"data/training_labels.json\")\r\n",
    "%memit labels_validation = label_loader(\"data/validation_labels.json\")"
   ],
   "outputs": [
    {
     "output_type": "stream",
     "name": "stdout",
     "text": [
      "load passages from: data/passages_small.json\n",
      "peak memory: 1037.60 MiB, increment: 849.95 MiB\n",
      "load queries from: data/training_queries.json\n",
      "load queries from: data/training_queries.json\n",
      "load queries from: data/training_queries.json\n",
      "load queries from: data/training_queries.json\n",
      "peak memory: 720.27 MiB, increment: 4.14 MiB\n",
      "load queries from: data/validation_queries.json\n",
      "load queries from: data/validation_queries.json\n",
      "load queries from: data/validation_queries.json\n",
      "load queries from: data/validation_queries.json\n",
      "peak memory: 720.02 MiB, increment: 0.01 MiB\n",
      "load queries from: data/test_queries.json\n",
      "load queries from: data/test_queries.json\n",
      "load queries from: data/test_queries.json\n",
      "load queries from: data/test_queries.json\n",
      "peak memory: 720.03 MiB, increment: 0.00 MiB\n",
      "Load labels from: data/training_labels.json\n",
      "Load labels from: data/training_labels.json\n",
      "Load labels from: data/training_labels.json\n",
      "Load labels from: data/training_labels.json\n",
      "peak memory: 726.06 MiB, increment: 6.03 MiB\n",
      "Load labels from: data/validation_labels.json\n",
      "Load labels from: data/validation_labels.json\n",
      "Load labels from: data/validation_labels.json\n",
      "Load labels from: data/validation_labels.json\n",
      "peak memory: 724.62 MiB, increment: 0.06 MiB\n"
     ]
    }
   ],
   "metadata": {
    "scrolled": true
   }
  },
  {
   "cell_type": "markdown",
   "source": [
    "Let's take a look at a loaded query, a label and a passage."
   ],
   "metadata": {}
  },
  {
   "cell_type": "code",
   "execution_count": 9,
   "source": [
    "list(queries_training.items())[0]"
   ],
   "outputs": [
    {
     "output_type": "execute_result",
     "data": {
      "text/plain": [
       "('qid_1',\n",
       " ')what was the immediate impact of the success of the manhattan project?')"
      ]
     },
     "metadata": {},
     "execution_count": 9
    }
   ],
   "metadata": {}
  },
  {
   "cell_type": "code",
   "execution_count": 10,
   "source": [
    "list(labels_training.items())[0]"
   ],
   "outputs": [
    {
     "output_type": "execute_result",
     "data": {
      "text/plain": [
       "('qid_1', {'pid_2255197': 1})"
      ]
     },
     "metadata": {},
     "execution_count": 10
    }
   ],
   "metadata": {}
  },
  {
   "cell_type": "code",
   "execution_count": 11,
   "source": [
    "list(passages.items())[0]"
   ],
   "outputs": [
    {
     "output_type": "execute_result",
     "data": {
      "text/plain": [
       "('pid_811758',\n",
       " 'The file browser will appear. Select the DXF File you want to import and click Import. 3. Position Image on Canvas. Using the cursor select where you want the image to be placed and click and drag to position the image on the canvas. 4. Edit your DXF file. Make your edits to the image. 5.')"
      ]
     },
     "metadata": {},
     "execution_count": 11
    }
   ],
   "metadata": {}
  },
  {
   "cell_type": "markdown",
   "source": [
    "## Preprocessing\n",
    "\n",
    "The preprocessing step only has a tokenizer based on spaces.  \n",
    "Feel free to implement your own preprocessing steps, like:  \n",
    "* tokenising words with more advanced methods (e.g., nltk, spaCy and so on)\n",
    "* lowercasing\n",
    "* stemming\n",
    "* stop words removal, etc.\n"
   ],
   "metadata": {}
  },
  {
   "cell_type": "code",
   "execution_count": 7,
   "source": [
    "def process_passages(passages):\r\n",
    "    passages_tokenised = {}\r\n",
    "    for passage_id in passages.keys():\r\n",
    "        passages_tokenised[passage_id] = passages[passage_id].split()\r\n",
    "    return passages_tokenised\r\n",
    "\r\n",
    "\r\n",
    "def process_queries(queries):   \r\n",
    "    queries_tokenised = {}  \r\n",
    "    for query_id in queries.keys():\r\n",
    "        queries_tokenised[query_id] = queries[query_id].split()\r\n",
    "    return queries_tokenised  \r\n",
    "\r\n",
    "\r\n",
    "%memit tokenised_queries_training = process_queries(queries_training)\r\n",
    "%memit tokenised_queries_validation = process_queries(queries_validation)\r\n",
    "%memit tokenised_queries_test = process_queries(queries_test)\r\n",
    "\r\n",
    "%memit tokenised_passages = process_passages(passages)"
   ],
   "outputs": [
    {
     "output_type": "stream",
     "name": "stdout",
     "text": [
      "peak memory: 818.98 MiB, increment: -6.76 MiB\n",
      "peak memory: 482.38 MiB, increment: -340.46 MiB\n",
      "peak memory: 200.99 MiB, increment: -113.17 MiB\n",
      "peak memory: 2232.12 MiB, increment: 2024.39 MiB\n"
     ]
    }
   ],
   "metadata": {
    "scrolled": true
   }
  },
  {
   "cell_type": "markdown",
   "source": [
    "Let's take a look at a tokenised query and a passage."
   ],
   "metadata": {}
  },
  {
   "cell_type": "code",
   "execution_count": 8,
   "source": [
    "print(tokenised_queries_training['qid_1']) "
   ],
   "outputs": [
    {
     "output_type": "stream",
     "name": "stdout",
     "text": [
      "[')what', 'was', 'the', 'immediate', 'impact', 'of', 'the', 'success', 'of', 'the', 'manhattan', 'project?']\n"
     ]
    }
   ],
   "metadata": {}
  },
  {
   "cell_type": "code",
   "execution_count": 9,
   "source": [
    "print(tokenised_passages['pid_811758'])     "
   ],
   "outputs": [
    {
     "output_type": "stream",
     "name": "stdout",
     "text": [
      "['The', 'file', 'browser', 'will', 'appear.', 'Select', 'the', 'DXF', 'File', 'you', 'want', 'to', 'import', 'and', 'click', 'Import.', '3.', 'Position', 'Image', 'on', 'Canvas.', 'Using', 'the', 'cursor', 'select', 'where', 'you', 'want', 'the', 'image', 'to', 'be', 'placed', 'and', 'click', 'and', 'drag', 'to', 'position', 'the', 'image', 'on', 'the', 'canvas.', '4.', 'Edit', 'your', 'DXF', 'file.', 'Make', 'your', 'edits', 'to', 'the', 'image.', '5.']\n"
     ]
    }
   ],
   "metadata": {}
  },
  {
   "cell_type": "markdown",
   "source": [
    "## Full-Ranking + Feature Construction\n",
    "\n",
    "Given a user query, full-ranking aims to quickly and roughly rank all passages and return a ranked list of passages.\n",
    "Here, we implement __Term Frequency (TF)__ and regard it as a full-ranking method.\n",
    "\n",
    "You are encouraged to implement more advanced full-ranking methods, such as TF-IDF, BM25 and so on. You are also encouraged to add a __relevance feedback module__ here to further improve the performance.\n",
    "You are asked to implement a full-ranking method by yourself, and you are not allowed to use some off-the-shelf pacakges, such as scikit-learn, pandas and so on.\n",
    "\n",
    "Next, let's conduct full-ranking on the __training__ set."
   ],
   "metadata": {}
  },
  {
   "cell_type": "code",
   "execution_count": 10,
   "source": [
    "from tf import TermFrequency"
   ],
   "outputs": [],
   "metadata": {}
  },
  {
   "cell_type": "code",
   "execution_count": 11,
   "source": [
    "%memit full_ranker = TermFrequency(tokenised_passages)"
   ],
   "outputs": [
    {
     "output_type": "stream",
     "name": "stdout",
     "text": [
      "peak memory: 1846.24 MiB, increment: -77.58 MiB\n"
     ]
    }
   ],
   "metadata": {
    "scrolled": true
   }
  },
  {
   "cell_type": "code",
   "execution_count": null,
   "source": [
    "# For each query, calculte scores of all passages on the training set.\r\n",
    "%memit scores = full_ranker.score(tokenised_queries_training)\r\n",
    "\r\n",
    "# rank the calclulated scores from largest to smallest.\r\n",
    "for q_id, p2score in scores.items():\r\n",
    "    sorted_p2score=sorted(p2score.items(), key=lambda x:x[1], reverse = True)\r\n",
    "    scores[q_id]=sorted_p2score"
   ],
   "outputs": [],
   "metadata": {
    "scrolled": true
   }
  },
  {
   "cell_type": "markdown",
   "source": [
    "When the full-ranking calculation finishes, the top 100 ranked list of passages are stored. \n",
    "In parallel, the features for the next re-ranking are also constructed. \n",
    "Here we only consider two features, __TF scores__ and __passge lengths__.\n",
    "\n",
    "Before outputing the ranked list, you need first create an output directory."
   ],
   "metadata": {}
  },
  {
   "cell_type": "code",
   "execution_count": null,
   "source": [
    "if not os.path.exists(\"output/\"):\r\n",
    "    os.makedirs(\"output/\")"
   ],
   "outputs": [],
   "metadata": {}
  },
  {
   "cell_type": "code",
   "execution_count": null,
   "source": [
    "# output the result file and build_features  \r\n",
    "with codecs.open(\"output/full_ranking_training_result.text\", \"w\", \"utf-8\") as file:\r\n",
    "    for q_id, p2score in scores.items():\r\n",
    "        ranking=0\r\n",
    "        for (p_id, score) in p2score[:100]:\r\n",
    "            ranking+=1         \r\n",
    "            feature_1 = score\r\n",
    "            feature_2 = len(full_ranker.passages[p_id])             \r\n",
    "    \r\n",
    "            file.write('\\t'.join([q_id, p_id, str(ranking), str(feature_1), str(feature_2), \"full_ranking_on_the_training_set\"])+os.linesep) \r\n",
    "\r\n",
    "print(\"Produce file {}\".format(\"output/full_ranking_training_result.text\"))         "
   ],
   "outputs": [],
   "metadata": {}
  },
  {
   "cell_type": "markdown",
   "source": [
    "Similarly, you can conduct full-ranking on the validation set."
   ],
   "metadata": {}
  },
  {
   "cell_type": "code",
   "execution_count": null,
   "source": [
    "# For each query, calculte scores of all passages on the validation set.\r\n",
    "%memit scores = full_ranker.score(tokenised_queries_validation)\r\n",
    "\r\n",
    "# rank the calclulated scores from largest to smallest.\r\n",
    "for q_id, p2score in scores.items():\r\n",
    "    sorted_p2score=sorted(p2score.items(), key=lambda x:x[1], reverse = True)\r\n",
    "    scores[q_id]=sorted_p2score\r\n",
    "    \r\n",
    "with codecs.open(\"output/full_ranking_validation_result.text\", \"w\", \"utf-8\") as file:\r\n",
    "    for q_id, p2score in scores.items():\r\n",
    "        ranking=0\r\n",
    "        for (p_id, score) in p2score[:100]:\r\n",
    "            ranking+=1         \r\n",
    "            feature_1 = score\r\n",
    "            feature_2 = len(full_ranker.passages[p_id])             \r\n",
    "    \r\n",
    "            file.write('\\t'.join([q_id, p_id, str(ranking), str(feature_1), str(feature_2), \"full_ranking_on_the_validation_set\"])+os.linesep) \r\n",
    "\r\n",
    "print(\"Produce file {}\".format(\"output/full_ranking_validation_result.text\")) "
   ],
   "outputs": [],
   "metadata": {}
  },
  {
   "cell_type": "markdown",
   "source": [
    "Also, you can conduct full-ranking on the test set."
   ],
   "metadata": {}
  },
  {
   "cell_type": "code",
   "execution_count": null,
   "source": [
    "# For each query, calculte scores of all passages on the test set.\r\n",
    "%memit scores = full_ranker.score(tokenised_queries_test)\r\n",
    "\r\n",
    "# rank the calclulated scores from largest to smallest.\r\n",
    "for q_id, p2score in scores.items():\r\n",
    "    sorted_p2score=sorted(p2score.items(), key=lambda x:x[1], reverse = True)\r\n",
    "    scores[q_id]=sorted_p2score\r\n",
    "    \r\n",
    "with codecs.open(\"output/full_ranking_test_result.text\", \"w\", \"utf-8\") as file:\r\n",
    "    for q_id, p2score in scores.items():\r\n",
    "        ranking=0\r\n",
    "        for (p_id, score) in p2score[:100]:\r\n",
    "            ranking+=1         \r\n",
    "            feature_1 = score\r\n",
    "            feature_2 = len(full_ranker.passages[p_id])             \r\n",
    "    \r\n",
    "            file.write('\\t'.join([q_id, p_id, str(ranking), str(feature_1), str(feature_2), \"full_ranking_on_the_test_set\"])+os.linesep) \r\n",
    "\r\n",
    "print(\"Produce file {}\".format(\"output/full_ranking_test_result.text\")) "
   ],
   "outputs": [],
   "metadata": {}
  },
  {
   "cell_type": "markdown",
   "source": [
    "## Re-ranking\n",
    "\n",
    "Based on the top 100 ranked list of passages from full-ranking, re-ranking is conducted to further carefully rank the top 100 passages from full-ranking.   \n",
    "Re-ranking methods are usually based on neural networks, and more complex than full-ranking ones.\n",
    "\n",
    "Here, we implement __RankNet__ （https://dl.acm.org/doi/pdf/10.1145/1102351.1102363) and regard it as a re-ranking method.\n",
    "\n",
    "You are encouraged to implement more advanced re-ranking methods, such as LambdaRank or even embedding-based rankers.\n",
    "Also, you are asked to implement a re-ranking method by yourself, and you are not allowed to use some off-the-shelf re-ranking models.\n",
    "\n",
    "First, we need set the hyperparameters for RankNet."
   ],
   "metadata": {}
  },
  {
   "cell_type": "code",
   "execution_count": null,
   "source": [
    "# hyperparameters for RankNet\r\n",
    "parser = argparse.ArgumentParser()\r\n",
    "parser.add_argument(\"--epochs\", type=int, default=30)\r\n",
    "parser.add_argument(\"--lr\", type=float, default=0.001)\r\n",
    "parser.add_argument(\"--input_size\", type=int, default=2)\r\n",
    "parser.add_argument(\"--hidden_size1\", type=int, default=128)\r\n",
    "parser.add_argument(\"--hidden_size2\", type=int, default=128)\r\n",
    "parser.add_argument(\"--output_size\", type=int, default=1)\r\n",
    "parser.add_argument(\"--batch_size\", type=int, default=512)\r\n",
    "parser.add_argument(\"--random_seed\", type=int, default=0)\r\n",
    "args = parser.parse_known_args()[0]"
   ],
   "outputs": [],
   "metadata": {}
  },
  {
   "cell_type": "markdown",
   "source": [
    "Also, we need to ensure reproducibility."
   ],
   "metadata": {}
  },
  {
   "cell_type": "code",
   "execution_count": null,
   "source": [
    "np.random.seed(args.random_seed)\r\n",
    "torch.manual_seed(args.random_seed)\r\n",
    "torch.cuda.manual_seed_all(args.random_seed)\r\n",
    "torch.backends.cudnn.deterministic = True\r\n",
    "torch.backends.cudnn.benchmark = True"
   ],
   "outputs": [],
   "metadata": {}
  },
  {
   "cell_type": "code",
   "execution_count": null,
   "source": [
    "from ranknet import train, inference"
   ],
   "outputs": [],
   "metadata": {}
  },
  {
   "cell_type": "markdown",
   "source": [
    "Next, you need to train RankNet on the training set."
   ],
   "metadata": {}
  },
  {
   "cell_type": "code",
   "execution_count": null,
   "source": [
    "# load the full-ranking result on the training set.\r\n",
    "q_id = []\r\n",
    "features = []\r\n",
    "labels = []\r\n",
    "        \r\n",
    "print(\"Load file {}\".format(\"output/full_ranking_training_result.text\"))\r\n",
    "with codecs.open(\"output/full_ranking_training_result.text\", \"r\", \"utf-8\") as file:\r\n",
    "    for line in file.readlines():\r\n",
    "        content = line.split('\\t')\r\n",
    "        q_id.append(content[0]) \r\n",
    "        features.append([float(content[3]),float(content[4])])\r\n",
    "        labels.append(labels_training[content[0]][content[1]] if content[1] in labels_training[content[0]] else 0)\r\n",
    "\r\n",
    "# train model\r\n",
    "%memit train(args, q_id, features, labels)"
   ],
   "outputs": [],
   "metadata": {}
  },
  {
   "cell_type": "markdown",
   "source": [
    "Then, you need to conduct inference on the validation set."
   ],
   "metadata": {
    "scrolled": true
   }
  },
  {
   "cell_type": "code",
   "execution_count": null,
   "source": [
    "# load the full-ranking result on the validation set.\r\n",
    "\r\n",
    "print(\"Load file {}\".format(\"output/full_ranking_validation_result.text\")) \r\n",
    "q_id = []\r\n",
    "p_id = []\r\n",
    "features = []\r\n",
    "        \r\n",
    "with codecs.open(\"output/full_ranking_validation_result.text\", \"r\", \"utf-8\") as file:\r\n",
    "    for line in file.readlines():\r\n",
    "        content = line.split('\\t')\r\n",
    "        q_id.append(content[0]) \r\n",
    "        features.append([float(content[3]),float(content[4])])\r\n",
    "        p_id.append(content[1])\r\n",
    "\r\n",
    "# conduct inference on the validation set.\r\n",
    "%memit scores = inference(args, q_id, p_id, features) \r\n",
    "\r\n",
    "# rank the calclulated scores from largest to smallest.\r\n",
    "for q_id, p2score in scores.items():\r\n",
    "    sorted_p2score=sorted(p2score.items(), key=lambda x:x[1], reverse = True)\r\n",
    "    scores[q_id]=sorted_p2score\r\n",
    "        \r\n",
    "with codecs.open(\"output/re_ranking_validation_result.text\", \"w\", \"utf-8\") as file:\r\n",
    "    for q_id, p2score in scores.items():\r\n",
    "        ranking=0\r\n",
    "        for (p_id, score) in p2score:\r\n",
    "            ranking+=1           \r\n",
    "                    \r\n",
    "            file.write('\\t'.join([q_id, p_id, str(ranking), str(score), \"re_ranking_on_the_validation_set\"])+os.linesep)\r\n",
    "\r\n",
    "# output the result file. \r\n",
    "print(\"Produce file {}\".format(\"re_ranking_validation_result.text\")) "
   ],
   "outputs": [],
   "metadata": {}
  },
  {
   "cell_type": "markdown",
   "source": [
    "Similaly, you need to conduct inference on the test set."
   ],
   "metadata": {}
  },
  {
   "cell_type": "code",
   "execution_count": null,
   "source": [
    "# load the full-ranking result on the test set.\r\n",
    "\r\n",
    "print(\"Load file {}\".format(\"output/full_ranking_test_result.text\")) \r\n",
    "q_id = []\r\n",
    "p_id = []\r\n",
    "features = []\r\n",
    "        \r\n",
    "with codecs.open(\"output/full_ranking_test_result.text\", \"r\", \"utf-8\") as file:\r\n",
    "    for line in file.readlines():\r\n",
    "        content = line.split('\\t')\r\n",
    "        q_id.append(content[0]) \r\n",
    "        features.append([float(content[3]),float(content[4])])\r\n",
    "        p_id.append(content[1])\r\n",
    "\r\n",
    "# conduct inference on the validation set.\r\n",
    "%memit scores = inference(args, q_id, p_id, features) \r\n",
    "\r\n",
    "# rank the calclulated scores from largest to smallest.\r\n",
    "for q_id, p2score in scores.items():\r\n",
    "    sorted_p2score=sorted(p2score.items(), key=lambda x:x[1], reverse = True)\r\n",
    "    scores[q_id]=sorted_p2score\r\n",
    "        \r\n",
    "with codecs.open(\"output/re_ranking_test_result.text\", \"w\", \"utf-8\") as file:\r\n",
    "    for q_id, p2score in scores.items():\r\n",
    "        ranking=0\r\n",
    "        for (p_id, score) in p2score:\r\n",
    "            ranking+=1           \r\n",
    "                    \r\n",
    "            file.write('\\t'.join([q_id, p_id, str(ranking), str(score), \"re_ranking_on_the_test_set\"])+os.linesep)\r\n",
    "\r\n",
    "# output the result file. \r\n",
    "print(\"Produce file {}\".format(\"re_ranking_test_result.text\")) "
   ],
   "outputs": [],
   "metadata": {}
  },
  {
   "cell_type": "markdown",
   "source": [
    "## Evaluation\n",
    "\n",
    "Here, we evaluate the final ranked lists on the validation with Mean Reciprocal Rank (MRR).\n",
    "We encourage you to add more metrics like NDCG that considers graded relevance."
   ],
   "metadata": {}
  },
  {
   "cell_type": "code",
   "execution_count": null,
   "source": [
    "from metrics import mrr"
   ],
   "outputs": [],
   "metadata": {}
  },
  {
   "cell_type": "markdown",
   "source": [
    "Evaluate full-ranking on the validation set."
   ],
   "metadata": {}
  },
  {
   "cell_type": "code",
   "execution_count": null,
   "source": [
    "scores = defaultdict(list)\r\n",
    "with codecs.open(\"output/full_ranking_validation_result.text\", \"r\", \"utf-8\") as file:\r\n",
    "    for line in file.readlines():\r\n",
    "        content = line.split('\\t')\r\n",
    "        scores[content[0]].append(content[1])\r\n",
    "\r\n",
    "print(\"Full-ranking\")\r\n",
    "print('MRR@{}: {:.4f}'.format(100, mrr(scores, labels_validation, 100)))"
   ],
   "outputs": [],
   "metadata": {}
  },
  {
   "cell_type": "markdown",
   "source": [
    "Evaluate re-ranking on the validation set."
   ],
   "metadata": {}
  },
  {
   "cell_type": "code",
   "execution_count": null,
   "source": [
    "scores = defaultdict(list)\r\n",
    "with codecs.open(\"output/re_ranking_validation_result.text\", \"r\", \"utf-8\") as file:\r\n",
    "    for line in file.readlines():\r\n",
    "        content = line.split('\\t')\r\n",
    "        scores[content[0]].append(content[1])\r\n",
    "\r\n",
    "print(\"Re-ranking\")\r\n",
    "print('MRR@{}: {:.4f}'.format(100, mrr(scores, labels_validation, 100)))"
   ],
   "outputs": [],
   "metadata": {}
  },
  {
   "cell_type": "markdown",
   "source": [
    "## Submission to CodaLab Leaderboard\n",
    "\n",
    "You are asked to zip the final ranked lists on the validation and test sets and then submit the zipped file to the leaderboard."
   ],
   "metadata": {}
  },
  {
   "cell_type": "code",
   "execution_count": null,
   "source": [
    "# zip results\r\n",
    "studentnumber = \"201814828\"\r\n",
    "studentname = \"ChuanMeng\"\r\n",
    "\r\n",
    "filename = f\"{studentnumber}_{studentname}_codalab_submission.zip\"\r\n",
    "\r\n",
    "with ZipFile(\"output/\"+filename, 'w') as zipObj:\r\n",
    "    zipObj.write(\"output/re_ranking_validation_result.text\",\"re_ranking_validation_result.text\")\r\n",
    "    zipObj.write(\"output/re_ranking_test_result.text\",\"re_ranking_test_result.text\")"
   ],
   "outputs": [],
   "metadata": {}
  }
 ],
 "metadata": {
  "kernelspec": {
   "name": "python3",
   "display_name": "Python 3.8.5 64-bit ('base': conda)"
  },
  "language_info": {
   "codemirror_mode": {
    "name": "ipython",
    "version": 3
   },
   "file_extension": ".py",
   "mimetype": "text/x-python",
   "name": "python",
   "nbconvert_exporter": "python",
   "pygments_lexer": "ipython3",
   "version": "3.8.5"
  },
  "vscode": {
   "interpreter": {
    "hash": "fa049ddfcb5c03cca1fec5fdf4a3bc3aaae3e6523bcad276767eb55f5d6bc0f2"
   }
  },
  "interpreter": {
   "hash": "87ee23ff178fcb895957cf435a2520cfc44b398b5ecfb5c211378165b58380ed"
  }
 },
 "nbformat": 4,
 "nbformat_minor": 5
}